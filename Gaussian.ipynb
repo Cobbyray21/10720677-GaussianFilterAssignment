{
 "metadata": {
  "language_info": {
   "codemirror_mode": {
    "name": "ipython",
    "version": 3
   },
   "file_extension": ".py",
   "mimetype": "text/x-python",
   "name": "python",
   "nbconvert_exporter": "python",
   "pygments_lexer": "ipython3",
   "version": "3.9.5"
  },
  "orig_nbformat": 2,
  "kernelspec": {
   "name": "python395jvsc74a57bd0903a8bd8a877e07c781018186527043649b9a1c5e4bfa3ad92c498b005c97773",
   "display_name": "Python 3.9.5 64-bit"
  },
  "metadata": {
   "interpreter": {
    "hash": "903a8bd8a877e07c781018186527043649b9a1c5e4bfa3ad92c498b005c97773"
   }
  }
 },
 "nbformat": 4,
 "nbformat_minor": 2,
 "cells": [
  {
   "cell_type": "code",
   "execution_count": 37,
   "metadata": {},
   "outputs": [],
   "source": [
    "\n",
    "import numpy as np"
   ]
  },
  {
   "cell_type": "code",
   "execution_count": 38,
   "metadata": {},
   "outputs": [],
   "source": [
    "# Assuming the size of kernel is odd \n",
    "def getGaussianFilter(kSize,sigma):\n",
    "    # Computing minimum and maximum in x direction#\n",
    "    maxX = kSize//2\n",
    "    minX = -maxX\n",
    "    # Same X and Y max and Min to symmetry \n",
    "    minY = minX\n",
    "    maxY = maxX\n",
    "    G = np.zeros((kSize,kSize))\n",
    "    for x in range(minX,maxX+1):\n",
    "        for y in range(minY,maxY+1):\n",
    "            # General Gaussian formula\n",
    "            v = (1/(2*np.pi*(sigma**2)))*np.exp(-(x**2 + y**2)/(2*(sigma**2)))\n",
    "            G[x-minX,y-minY] = v\n",
    "    return G"
   ]
  },
  {
   "cell_type": "code",
   "execution_count": 39,
   "metadata": {},
   "outputs": [
    {
     "output_type": "execute_result",
     "data": {
      "text/plain": [
       "array([[0.00291502, 0.01306423, 0.02153928, 0.01306423, 0.00291502],\n",
       "       [0.01306423, 0.05854983, 0.09653235, 0.05854983, 0.01306423],\n",
       "       [0.02153928, 0.09653235, 0.15915494, 0.09653235, 0.02153928],\n",
       "       [0.01306423, 0.05854983, 0.09653235, 0.05854983, 0.01306423],\n",
       "       [0.00291502, 0.01306423, 0.02153928, 0.01306423, 0.00291502]])"
      ]
     },
     "metadata": {},
     "execution_count": 39
    }
   ],
   "source": [
    "\n",
    "gaussValue = getGaussianFilter(5,1)\n",
    "\n",
    "gaussValue"
   ]
  },
  {
   "cell_type": "code",
   "execution_count": 40,
   "metadata": {},
   "outputs": [
    {
     "output_type": "execute_result",
     "data": {
      "text/plain": [
       "0.9818147610543744"
      ]
     },
     "metadata": {},
     "execution_count": 40
    }
   ],
   "source": [
    "np.sum(G)"
   ]
  },
  {
   "cell_type": "code",
   "execution_count": null,
   "metadata": {},
   "outputs": [],
   "source": []
  }
 ]
}